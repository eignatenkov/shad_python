{
 "cells": [
  {
   "cell_type": "code",
   "execution_count": 1,
   "metadata": {
    "collapsed": false
   },
   "outputs": [],
   "source": [
    "import surname as br\n",
    "import numpy as np\n",
    "import time"
   ]
  },
  {
   "cell_type": "markdown",
   "metadata": {},
   "source": [
    "Все функции должны работать не дольше 1 секунды."
   ]
  },
  {
   "cell_type": "code",
   "execution_count": 10,
   "metadata": {
    "collapsed": false
   },
   "outputs": [],
   "source": [
    "def check_size(results, s):\n",
    "    for key, value in results.items():\n",
    "        if value.size != s:\n",
    "            print key + u' имеет неверный размер: %d вместо %d' % (value.size, s)\n",
    "        if np.sum(np.isnan(value)) != 0:\n",
    "            print key + u' содержит NaN'\n",
    "    \n",
    "def check_time(times):\n",
    "    for key, value in times.items():\n",
    "        if value >= 1:\n",
    "            print key + u' работает слишком долго (%.4f сек)' % (value)\n",
    "            \n",
    "def make_test(var_number):\n",
    "    params = {'amin': 75, 'amax': 90, 'bmin': 500, 'bmax': 600,\n",
    "              'p1': 0.1, 'p2': 0.01, 'p3': 0.3}    \n",
    "   \n",
    "    clen = params['amax'] + params['bmax'] + 1\n",
    "    dlen = (params['amax'] + params['bmax']) * 2 + 1\n",
    "    blen = params['bmax'] - params['bmin'] + 1\n",
    "    \n",
    "    results_c = dict()\n",
    "    results_d = dict()\n",
    "    results_b = dict()\n",
    "    results_n = dict()\n",
    "    times = dict()\n",
    "        \n",
    "    if var_number == 1:\n",
    "        t_start = time.clock(); results_c['p1_c'], results_c['c1'] = br.pc(params, 1); times['p1_c'] = time.clock() - t_start\n",
    "        t_start = time.clock(); results_c['p2_c'], results_c['c2'] = br.pc(params, 2); times['p2_c'] = time.clock() - t_start\n",
    "        t_start = time.clock(); results_d['p1_d'], results_d['d1'] = br.pd(params, 1); times['p1_d'] = time.clock() - t_start\n",
    "        t_start = time.clock(); results_d['p2_d'], results_d['d2'] = br.pd(params, 2); times['p2_d'] = time.clock() - t_start\n",
    "        \n",
    "        t_start = time.clock(); results_c['p1_c_a'], results_c['c_a1'] = br.pc_a(80, params, 1); times['p1_c_a'] = time.clock() - t_start\n",
    "        t_start = time.clock(); results_c['p2_c_a'], results_c['c_a2'] = br.pc_a(80, params, 2); times['p2_c_a'] = time.clock() - t_start\n",
    "        t_start = time.clock(); results_c['p1_c_b'], results_c['c_b1'] = br.pc_b(500, params, 1); times['p1_c_b'] = time.clock() - t_start\n",
    "        t_start = time.clock(); results_c['p2_c_b'], results_c['c_b2'] = br.pc_b(500, params, 2); times['p2_c_b'] = time.clock() - t_start\n",
    "        t_start = time.clock(); results_c['p1_c_d'], results_c['c_d1'] = br.pc_d(400, params, 1); times['p1_c_d'] = time.clock() - t_start\n",
    "        t_start = time.clock(); results_c['p2_c_d'], results_c['c_d2'] = br.pc_d(400, params, 2); times['p2_c_d'] = time.clock() - t_start\n",
    "        \n",
    "        t_start = time.clock(); results_c['p1_c_ab'], results_c['c_ab1'] = br.pc_ab(80, 500, params, 1); times['p1_c_ab'] = time.clock() - t_start\n",
    "        t_start = time.clock(); results_c['p2_c_ab'], results_c['c_ab2'] = br.pc_ab(80, 500, params, 2); times['p2_c_ab'] = time.clock() - t_start\n",
    "        \n",
    "        t_start = time.clock(); results_c['p1_c_abd'], results_c['c_abd1'] = br.pc_abd(80, 500, 400, params, 1); times['p1_c_abd'] = time.clock() - t_start\n",
    "        t_start = time.clock(); results_c['p2_c_abd'], results_c['c_abd2'] = br.pc_abd(80, 500, 400, params, 2); times['p2_c_abd'] = time.clock() - t_start\n",
    "        \n",
    "        check_size(results_c, clen)\n",
    "        check_size(results_d, dlen)\n",
    "        check_time(times)\n",
    "        \n",
    "    elif var_number == 2:\n",
    "        t_start = time.clock(); results_c['p1_c'], results_c['c1'] = br.pc(params, 1); times['p1_c'] = time.clock() - t_start\n",
    "        t_start = time.clock(); results_c['p2_c'], results_c['c2'] = br.pc(params, 2); times['p2_c'] = time.clock() - t_start\n",
    "        t_start = time.clock(); results_d['p1_d'], results_d['d1'] = br.pd(params, 1); times['p1_d'] = time.clock() - t_start\n",
    "        t_start = time.clock(); results_d['p2_d'], results_d['d2'] = br.pd(params, 2); times['p2_d'] = time.clock() - t_start\n",
    "        \n",
    "        t_start = time.clock(); results_b['p1_b_d'], results_b['b_d1'] = br.pb_d(400, params,1); times['p1_b_d'] = time.clock() - t_start\n",
    "        t_start = time.clock(); results_b['p2_b_d'], results_b['b_d2'] = br.pb_d(400, params,2); times['p2_b_d'] = time.clock() - t_start\n",
    "        t_start = time.clock(); results_b['p1_b_ad'], results_b['b_ad1'] = br.pb_ad(80, 400, params,1); times['p1_b_ad'] = time.clock() - t_start\n",
    "        t_start = time.clock(); results_b['p2_b_ad'], results_b['b_ad2'] = br.pb_ad(80, 400, params,2); times['p2_b_ad'] = time.clock() - t_start\n",
    "        \n",
    "        t_start = time.clock(); results_c['p1_c_a'], results_c['c_a1'] = br.pc_a(80, params, 1); times['p1_c_a'] = time.clock() - t_start\n",
    "        t_start = time.clock(); results_c['p2_c_a'], results_c['c_a2'] = br.pc_a(80, params, 2); times['p2_c_a'] = time.clock() - t_start\n",
    "        t_start = time.clock(); results_c['p1_c_b'], results_c['c_b1'] = br.pc_b(500, params, 1); times['p1_c_b'] = time.clock() - t_start\n",
    "        t_start = time.clock(); results_c['p2_c_b'], results_c['c_b2'] = br.pc_b(500, params, 2); times['p2_c_b'] = time.clock() - t_start\n",
    "        \n",
    "        check_size(results_c, clen)\n",
    "        check_size(results_d, dlen)\n",
    "        check_size(results_b, blen)\n",
    "        check_time(times)\n",
    "        \n",
    "    else:\n",
    "        t_start = time.clock(); results_c['p3_c'], results_c['c3'] = br.pc(params, 3); times['p3_c'] = time.clock() - t_start\n",
    "        t_start = time.clock(); results_c['p4_c'], results_c['c4'] = br.pc(params, 4); times['p4_c'] = time.clock() - t_start\n",
    "        t_start = time.clock(); results_d['p3_d'], results_d['d3'] = br.pd(params, 3); times['p3_d'] = time.clock() - t_start\n",
    "        t_start = time.clock(); results_d['p4_d'], results_d['d4'] = br.pd(params, 4); times['p4_d'] = time.clock() - t_start\n",
    "        \n",
    "        d_arr = 40*np.ones(50,dtype='int32')\n",
    "        t_start = time.clock(); results_b['p3_b_d'], results_b['b_d3'] = br.pb_d(d_arr, params, 3); times['p3_b_d'] = time.clock() - t_start\n",
    "        t_start = time.clock(); results_b['p4_b_d'], results_b['b_d4'] = br.pb_d(d_arr, params, 4); times['p4_b_d'] = time.clock() - t_start\n",
    "        t_start = time.clock(); results_b['p3_b_ad'], results_b['b_ad3'] = br.pb_ad(80, d_arr, params, 3); times['p3_b_ad'] = time.clock() - t_start\n",
    "        t_start = time.clock(); results_b['p4_b_ad'], results_b['b_ad4'] = br.pb_ad(80, d_arr, params, 4); times['p4_b_ad'] = time.clock() - t_start\n",
    "        \n",
    "        results_n['d_gen3'] = br.generate(10000, 80, 500, params, 3)\n",
    "        results_n['d_gen4'] = br.generate(10000, 80, 500, params, 4)\n",
    "        \n",
    "        check_size(results_c, clen)\n",
    "        check_size(results_d, dlen)\n",
    "        check_size(results_b, blen)\n",
    "        check_size(results_n, 10000)\n",
    "        check_time(times)"
   ]
  },
  {
   "cell_type": "code",
   "execution_count": 14,
   "metadata": {
    "collapsed": false
   },
   "outputs": [],
   "source": [
    "make_test(3)"
   ]
  },
  {
   "cell_type": "code",
   "execution_count": null,
   "metadata": {
    "collapsed": true
   },
   "outputs": [],
   "source": []
  }
 ],
 "metadata": {
  "kernelspec": {
   "display_name": "Python 2",
   "language": "python",
   "name": "python2"
  },
  "language_info": {
   "codemirror_mode": {
    "name": "ipython",
    "version": 2
   },
   "file_extension": ".py",
   "mimetype": "text/x-python",
   "name": "python",
   "nbconvert_exporter": "python",
   "pygments_lexer": "ipython2",
   "version": "2.7.10"
  }
 },
 "nbformat": 4,
 "nbformat_minor": 0
}
